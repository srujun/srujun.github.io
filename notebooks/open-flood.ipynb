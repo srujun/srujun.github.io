{
 "cells": [
  {
   "cell_type": "code",
   "execution_count": 1,
   "metadata": {},
   "outputs": [],
   "source": [
    "import random\n",
    "\n",
    "from collections import Iterable\n",
    "from copy import deepcopy\n",
    "from itertools import permutations, product\n",
    "from queue import Queue\n",
    "\n",
    "from IPython.display import HTML, display, clear_output\n",
    "\n",
    "import numpy as np\n",
    "import matplotlib.pyplot as plt\n",
    "%matplotlib inline"
   ]
  },
  {
   "cell_type": "code",
   "execution_count": 2,
   "metadata": {},
   "outputs": [],
   "source": [
    "class Point(complex):\n",
    "    \"A point in the (x, y) plane.\"\n",
    "    def __repr__(self): return '({}, {})'.format(self.x, self.y)\n",
    "    x = property(lambda p: p.real)\n",
    "    y = property(lambda p: p.imag)\n",
    "\n",
    "Position = Point\n",
    "Dim2 = Point"
   ]
  },
  {
   "cell_type": "code",
   "execution_count": 3,
   "metadata": {},
   "outputs": [],
   "source": [
    "def argmax(inputs, f):\n",
    "    return max(inputs, key=f)"
   ]
  },
  {
   "cell_type": "code",
   "execution_count": 4,
   "metadata": {},
   "outputs": [],
   "source": [
    "class Board:\n",
    "    COLORS = 'red lightgrey yellow slateblue plum chartreuse cyan coral olive lightgrey wheat'.split()\n",
    "    \n",
    "    def __init__(self, dimensions, colors=4, seed=42):\n",
    "        self.seed = seed\n",
    "        self.dimensions = dimensions\n",
    "        self.colors = colors\n",
    "        self.cells = dict()\n",
    "        \n",
    "        self._populate()\n",
    "        self.original_cells = dict(self.cells)\n",
    "\n",
    "    def _populate(self):\n",
    "        random.seed(self.seed)\n",
    "        for y in range(int(self.dimensions.y)):\n",
    "            for x in range(int(self.dimensions.x)):\n",
    "                self._set(x, y, random.randint(1, self.colors))\n",
    "    \n",
    "    def _get(self, x, y):\n",
    "        return self.cells[Position(x, y)]\n",
    "    \n",
    "    def _set(self, x, y, color):\n",
    "        self.cells[Position(x, y)] = color\n",
    "        \n",
    "    def _within_bounds(self, position):\n",
    "        return (position.x >= 0 and position.y >= 0 and\n",
    "                position.x < self.dimensions.x and position.y < self.dimensions.y)\n",
    "                \n",
    "    def show(self, in_html=False):\n",
    "        cat = ''.join\n",
    "\n",
    "        if in_html:\n",
    "            html_table = '<table>{}</table>'\n",
    "            html_row = '<tr>{}</tr>'\n",
    "            html_td = '<td style=\"background-color:{}\">{}</td>'\n",
    "            \n",
    "            table = list()\n",
    "            for y in range(int(self.dimensions.y)):\n",
    "                row = list()\n",
    "                for x in range(int(self.dimensions.x)):\n",
    "                    color = self._get(x, y)\n",
    "                    row.append(html_td.format(Board.COLORS[color-1], color))\n",
    "                table.append(html_row.format(cat(row)))\n",
    "            \n",
    "            display(HTML(html_table.format(cat(table))))\n",
    "\n",
    "        else:\n",
    "            for y in range(int(self.dimensions.y)):\n",
    "                for x in range(int(self.dimensions.x)):\n",
    "                    print(self._get(x, y), end=' ')\n",
    "                print()\n",
    "                \n",
    "    def get_flood_size(self):\n",
    "        count = 0\n",
    "        q = Queue()\n",
    "        seen = set()\n",
    "        \n",
    "        q.put(Position(0, 0))\n",
    "        seen.add(Position(0, 0))\n",
    "        flood_color = self._get(0, 0)\n",
    "\n",
    "        while not q.empty():\n",
    "            count += 1\n",
    "            cell = q.get()\n",
    "\n",
    "            neighbors = [Position(cell.x + 1, cell.y), # right\n",
    "                         Position(cell.x, cell.y + 1), # down\n",
    "                         Position(cell.x - 1, cell.y), # left\n",
    "                         Position(cell.x, cell.y - 1)] # up\n",
    "\n",
    "            for n_cell in neighbors:\n",
    "                if self._within_bounds(n_cell) and n_cell not in seen:\n",
    "                    n_color = self._get(n_cell.x, n_cell.y)\n",
    "                    if n_color == flood_color:\n",
    "                        q.put(n_cell)\n",
    "                        seen.add(n_cell)\n",
    "\n",
    "        return count\n",
    "\n",
    "    def flood(self, colors):\n",
    "        \"\"\"Flood a single or a list of colors to the board.\n",
    "        \n",
    "        Return a list of tuples: (color, flood_size)\n",
    "        \"\"\"\n",
    "\n",
    "        if not isinstance(colors, Iterable):\n",
    "            colors = [colors]\n",
    "\n",
    "        ret_list = list()\n",
    "\n",
    "        for flood_color in colors:\n",
    "            # stop if done\n",
    "            if self.is_done():\n",
    "                return ret_list\n",
    "\n",
    "            # new count for every flood_color\n",
    "            count = 0\n",
    "            q = Queue()\n",
    "            seen = set()\n",
    "\n",
    "            q.put(Position(0, 0))\n",
    "            seen.add(Position(0, 0))\n",
    "            old_color = self._get(0, 0)\n",
    "\n",
    "            while not q.empty():\n",
    "                cell = q.get()\n",
    "                cell_color = self._get(cell.x, cell.y)\n",
    "                \n",
    "                neighbors = [Position(cell.x + 1, cell.y), # right\n",
    "                             Position(cell.x, cell.y + 1), # down\n",
    "                             Position(cell.x - 1, cell.y), # left\n",
    "                             Position(cell.x, cell.y - 1)] # up\n",
    "\n",
    "                for n_cell in neighbors:\n",
    "                    if self._within_bounds(n_cell) and n_cell not in seen:\n",
    "                        n_color = self._get(n_cell.x, n_cell.y)\n",
    "                        if cell_color == old_color:\n",
    "                            if n_color == old_color or n_color == flood_color:\n",
    "                                q.put(n_cell)\n",
    "                                seen.add(n_cell)\n",
    "                        elif cell_color == flood_color:\n",
    "                            if n_color == flood_color:\n",
    "                                q.put(n_cell)\n",
    "                                seen.add(n_cell)\n",
    "                \n",
    "                # set the color of the current cell\n",
    "                self._set(cell.x, cell.y, flood_color)\n",
    "                count += 1\n",
    "            \n",
    "            ret_list.append((flood_color, count))\n",
    "\n",
    "        return ret_list\n",
    "    \n",
    "    def potential_flood(self, colors):\n",
    "        saved_cells = dict(self.cells)\n",
    "        last_color, last_flood = self.flood(colors)[-1]\n",
    "        self.reset(to_state=saved_cells)\n",
    "        return last_flood\n",
    "   \n",
    "    def reset(self, to_state=None):\n",
    "        self.cells.clear()\n",
    "        if to_state:\n",
    "            self.cells.update(to_state)\n",
    "        else:\n",
    "            self.cells.update(self.original_cells)\n",
    "        \n",
    "    def is_done(self):\n",
    "        return len(set(self.cells.values())) == 1"
   ]
  },
  {
   "cell_type": "code",
   "execution_count": 5,
   "metadata": {},
   "outputs": [
    {
     "data": {
      "text/html": [
       "<table><tr><td style=\"background-color:red\">1</td><td style=\"background-color:red\">1</td><td style=\"background-color:yellow\">3</td><td style=\"background-color:lightgrey\">2</td><td style=\"background-color:lightgrey\">2</td><td style=\"background-color:lightgrey\">2</td><td style=\"background-color:red\">1</td><td style=\"background-color:red\">1</td><td style=\"background-color:slateblue\">4</td><td style=\"background-color:red\">1</td><td style=\"background-color:red\">1</td><td style=\"background-color:red\">1</td></tr><tr><td style=\"background-color:lightgrey\">2</td><td style=\"background-color:lightgrey\">2</td><td style=\"background-color:red\">1</td><td style=\"background-color:lightgrey\">2</td><td style=\"background-color:slateblue\">4</td><td style=\"background-color:lightgrey\">2</td><td style=\"background-color:slateblue\">4</td><td style=\"background-color:yellow\">3</td><td style=\"background-color:red\">1</td><td style=\"background-color:lightgrey\">2</td><td style=\"background-color:slateblue\">4</td><td style=\"background-color:yellow\">3</td></tr><tr><td style=\"background-color:yellow\">3</td><td style=\"background-color:lightgrey\">2</td><td style=\"background-color:lightgrey\">2</td><td style=\"background-color:yellow\">3</td><td style=\"background-color:red\">1</td><td style=\"background-color:red\">1</td><td style=\"background-color:slateblue\">4</td><td style=\"background-color:red\">1</td><td style=\"background-color:yellow\">3</td><td style=\"background-color:yellow\">3</td><td style=\"background-color:yellow\">3</td><td style=\"background-color:red\">1</td></tr><tr><td style=\"background-color:slateblue\">4</td><td style=\"background-color:red\">1</td><td style=\"background-color:slateblue\">4</td><td style=\"background-color:red\">1</td><td style=\"background-color:yellow\">3</td><td style=\"background-color:yellow\">3</td><td style=\"background-color:lightgrey\">2</td><td style=\"background-color:red\">1</td><td style=\"background-color:red\">1</td><td style=\"background-color:lightgrey\">2</td><td style=\"background-color:yellow\">3</td><td style=\"background-color:red\">1</td></tr><tr><td style=\"background-color:lightgrey\">2</td><td style=\"background-color:red\">1</td><td style=\"background-color:slateblue\">4</td><td style=\"background-color:yellow\">3</td><td style=\"background-color:slateblue\">4</td><td style=\"background-color:yellow\">3</td><td style=\"background-color:lightgrey\">2</td><td style=\"background-color:yellow\">3</td><td style=\"background-color:yellow\">3</td><td style=\"background-color:lightgrey\">2</td><td style=\"background-color:yellow\">3</td><td style=\"background-color:red\">1</td></tr><tr><td style=\"background-color:lightgrey\">2</td><td style=\"background-color:lightgrey\">2</td><td style=\"background-color:lightgrey\">2</td><td style=\"background-color:slateblue\">4</td><td style=\"background-color:slateblue\">4</td><td style=\"background-color:yellow\">3</td><td style=\"background-color:lightgrey\">2</td><td style=\"background-color:yellow\">3</td><td style=\"background-color:red\">1</td><td style=\"background-color:lightgrey\">2</td><td style=\"background-color:red\">1</td><td style=\"background-color:yellow\">3</td></tr><tr><td style=\"background-color:slateblue\">4</td><td style=\"background-color:yellow\">3</td><td style=\"background-color:red\">1</td><td style=\"background-color:lightgrey\">2</td><td style=\"background-color:yellow\">3</td><td style=\"background-color:lightgrey\">2</td><td style=\"background-color:slateblue\">4</td><td style=\"background-color:slateblue\">4</td><td style=\"background-color:slateblue\">4</td><td style=\"background-color:lightgrey\">2</td><td style=\"background-color:yellow\">3</td><td style=\"background-color:lightgrey\">2</td></tr><tr><td style=\"background-color:lightgrey\">2</td><td style=\"background-color:yellow\">3</td><td style=\"background-color:slateblue\">4</td><td style=\"background-color:slateblue\">4</td><td style=\"background-color:yellow\">3</td><td style=\"background-color:lightgrey\">2</td><td style=\"background-color:lightgrey\">2</td><td style=\"background-color:slateblue\">4</td><td style=\"background-color:red\">1</td><td style=\"background-color:red\">1</td><td style=\"background-color:red\">1</td><td style=\"background-color:lightgrey\">2</td></tr><tr><td style=\"background-color:lightgrey\">2</td><td style=\"background-color:slateblue\">4</td><td style=\"background-color:red\">1</td><td style=\"background-color:slateblue\">4</td><td style=\"background-color:slateblue\">4</td><td style=\"background-color:slateblue\">4</td><td style=\"background-color:yellow\">3</td><td style=\"background-color:red\">1</td><td style=\"background-color:red\">1</td><td style=\"background-color:yellow\">3</td><td style=\"background-color:yellow\">3</td><td style=\"background-color:red\">1</td></tr><tr><td style=\"background-color:yellow\">3</td><td style=\"background-color:slateblue\">4</td><td style=\"background-color:lightgrey\">2</td><td style=\"background-color:slateblue\">4</td><td style=\"background-color:red\">1</td><td style=\"background-color:yellow\">3</td><td style=\"background-color:lightgrey\">2</td><td style=\"background-color:red\">1</td><td style=\"background-color:yellow\">3</td><td style=\"background-color:lightgrey\">2</td><td style=\"background-color:lightgrey\">2</td><td style=\"background-color:yellow\">3</td></tr><tr><td style=\"background-color:lightgrey\">2</td><td style=\"background-color:red\">1</td><td style=\"background-color:yellow\">3</td><td style=\"background-color:slateblue\">4</td><td style=\"background-color:red\">1</td><td style=\"background-color:red\">1</td><td style=\"background-color:yellow\">3</td><td style=\"background-color:yellow\">3</td><td style=\"background-color:lightgrey\">2</td><td style=\"background-color:red\">1</td><td style=\"background-color:lightgrey\">2</td><td style=\"background-color:red\">1</td></tr><tr><td style=\"background-color:red\">1</td><td style=\"background-color:slateblue\">4</td><td style=\"background-color:red\">1</td><td style=\"background-color:lightgrey\">2</td><td style=\"background-color:lightgrey\">2</td><td style=\"background-color:slateblue\">4</td><td style=\"background-color:lightgrey\">2</td><td style=\"background-color:yellow\">3</td><td style=\"background-color:slateblue\">4</td><td style=\"background-color:lightgrey\">2</td><td style=\"background-color:lightgrey\">2</td><td style=\"background-color:yellow\">3</td></tr></table>"
      ],
      "text/plain": [
       "<IPython.core.display.HTML object>"
      ]
     },
     "metadata": {},
     "output_type": "display_data"
    }
   ],
   "source": [
    "board = Board(Dim2(12, 12))\n",
    "board.show(True)"
   ]
  },
  {
   "cell_type": "code",
   "execution_count": 6,
   "metadata": {},
   "outputs": [
    {
     "name": "stdout",
     "output_type": "stream",
     "text": [
      "Naive method \n",
      "20 steps: [4, 3, 1, 2, 1, 3, 1, 2, 1, 2, 1, 3, 1, 2, 3, 4, 2, 1, 4, 3]\n"
     ]
    }
   ],
   "source": [
    "def naive(board, debug=False):\n",
    "    board.reset()\n",
    "    steps = list()\n",
    "    prev_flood = 0\n",
    "    while not board.is_done():\n",
    "        color = random.randint(1, board.colors)\n",
    "        _, flood = board.flood(color)[0]\n",
    "        if flood != prev_flood:\n",
    "            steps.append(color)\n",
    "            prev_flood = flood\n",
    "    return steps\n",
    "\n",
    "steps = naive(board)\n",
    "print('Naive method \\n{} steps: {}'.format(len(steps), steps))"
   ]
  },
  {
   "cell_type": "code",
   "execution_count": 7,
   "metadata": {},
   "outputs": [
    {
     "name": "stdout",
     "output_type": "stream",
     "text": [
      "Immediate Maximum method \n",
      "14 steps: [2, 1, 2, 4, 3, 1, 2, 4, 1, 3, 2, 1, 4, 3]\n"
     ]
    }
   ],
   "source": [
    "def immediate_maximum(board, debug=False):\n",
    "    board.reset()\n",
    "    steps = list()\n",
    "    prev_flood = 0\n",
    "    while not board.is_done():\n",
    "        color = argmax(range(1, board.colors + 1), board.potential_flood)\n",
    "        _, flood = board.flood(color)[0]\n",
    "        if flood == prev_flood:\n",
    "            print('Argmax did not work: color %d' % color)\n",
    "            prev_flood = flood\n",
    "        steps.append(color)\n",
    "    return steps\n",
    "\n",
    "steps = immediate_maximum(board)\n",
    "print('Immediate Maximum method \\n{} steps: {}'.format(len(steps), steps))"
   ]
  },
  {
   "cell_type": "markdown",
   "metadata": {},
   "source": [
    "## Comparing Naive to Immediate Maximum"
   ]
  },
  {
   "cell_type": "code",
   "execution_count": 8,
   "metadata": {},
   "outputs": [
    {
     "name": "stdout",
     "output_type": "stream",
     "text": [
      "Found 1 baddies\n",
      "Found 2 baddies\n",
      "Found 3 baddies\n",
      "Found 4 baddies\n",
      "Found 5 baddies\n",
      "Found 6 baddies\n",
      "Found 7 baddies\n",
      "Found 8 baddies\n",
      "Found 9 baddies\n",
      "Found 10 baddies\n"
     ]
    }
   ],
   "source": [
    "diffs = list()\n",
    "baddies = list()\n",
    "while len(baddies) < 10:\n",
    "    board = Board(Dim2(12, 12), seed=None)\n",
    "    nai = naive(board)\n",
    "    imm_max = immediate_maximum(board)\n",
    "    diff = len(nai) - len(imm_max)\n",
    "    if diff <= 1:\n",
    "        board.reset()\n",
    "        baddies.append((board, nai, imm_max))\n",
    "        print('Found %d baddies' % len(baddies))\n",
    "    diffs.append(diff)"
   ]
  },
  {
   "cell_type": "code",
   "execution_count": 9,
   "metadata": {},
   "outputs": [
    {
     "name": "stdout",
     "output_type": "stream",
     "text": [
      "Count: 140\n",
      "Average: 4\n",
      "Min: -3\n",
      "Max: 10\n",
      "Board 0\n",
      "Naive: [3, 2, 1, 2, 4, 2, 4, 3, 1, 4, 2, 4, 2, 1, 4, 3, 2, 1]\n",
      "Immediate Max: [2, 4, 1, 3, 4, 2, 1, 3, 4, 1, 2, 3, 4, 1, 2, 4, 3, 1, 2]\n",
      "Diff: -1\n",
      "\n",
      "Board 1\n",
      "Naive: [3, 1, 2, 1, 2, 1, 4, 2, 1, 4, 2, 3, 1, 4]\n",
      "Immediate Max: [2, 1, 2, 3, 4, 2, 1, 4, 3, 1, 2, 4, 3]\n",
      "Diff: 1\n",
      "\n",
      "Board 2\n",
      "Naive: [4, 1, 4, 2, 1, 3, 2, 1, 2, 4, 3, 2, 1, 3, 2]\n",
      "Immediate Max: [2, 1, 4, 2, 1, 4, 3, 2, 1, 4, 3, 1, 2, 4]\n",
      "Diff: 1\n",
      "\n",
      "Board 3\n",
      "Naive: [4, 1, 3, 2, 4, 3, 4, 1, 2, 4, 2, 3, 1, 4, 3, 2, 1]\n",
      "Immediate Max: [1, 3, 4, 1, 3, 2, 4, 1, 3, 4, 2, 1, 3, 4, 2, 1]\n",
      "Diff: 1\n",
      "\n",
      "Board 4\n",
      "Naive: [4, 2, 1, 2, 4, 1, 2, 4, 3, 1, 4, 3, 2]\n",
      "Immediate Max: [2, 3, 1, 2, 4, 1, 2, 4, 3, 1, 2, 3, 4]\n",
      "Diff: 0\n",
      "\n",
      "Board 5\n",
      "Naive: [4, 3, 4, 2, 3, 1, 4, 1, 2, 4, 3, 4, 2, 1, 2, 3, 2, 4]\n",
      "Immediate Max: [3, 4, 3, 4, 2, 1, 4, 2, 3, 1, 4, 2, 3, 1, 4, 2, 3]\n",
      "Diff: 1\n",
      "\n",
      "Board 6\n",
      "Naive: [3, 4, 2, 4, 1, 2, 3, 4, 2, 3, 1, 4, 2, 4, 3, 1]\n",
      "Immediate Max: [4, 2, 1, 4, 2, 3, 4, 1, 2, 3, 4, 1, 2, 3, 4]\n",
      "Diff: 1\n",
      "\n",
      "Board 7\n",
      "Naive: [4, 3, 1, 2, 4, 2, 3, 4, 2, 1, 3, 2, 4]\n",
      "Immediate Max: [4, 3, 1, 2, 4, 3, 2, 1, 4, 3, 2, 1, 4]\n",
      "Diff: 0\n",
      "\n",
      "Board 8\n",
      "Naive: [2, 3, 1, 3, 2, 4, 3, 4, 1, 3, 2, 4]\n",
      "Immediate Max: [2, 3, 1, 4, 3, 2, 1, 4, 3, 2, 4, 1, 2, 4, 3]\n",
      "Diff: -3\n",
      "\n",
      "Board 9\n",
      "Naive: [3, 1, 2, 1, 3, 1, 2, 3, 1, 4, 1, 3, 2, 4, 1]\n",
      "Immediate Max: [3, 2, 3, 1, 4, 1, 3, 2, 4, 1, 3, 2, 4, 1]\n",
      "Diff: 1\n",
      "\n"
     ]
    }
   ],
   "source": [
    "diffs = np.array(diffs)\n",
    "print('Count: %d' % len(diffs))\n",
    "print('Average: %d' % np.average(diffs))\n",
    "print('Min: %d' % np.min(diffs))\n",
    "print('Max: %d' % np.max(diffs))\n",
    "for idx, item in enumerate(baddies):\n",
    "    board, nai, imm_max = item\n",
    "    print('Board %d' % idx)\n",
    "    print('Naive: {}'.format(nai))\n",
    "    print('Immediate Max: {}'.format(imm_max))\n",
    "    print('Diff: %d' % (len(nai) - len(imm_max)))\n",
    "    print()"
   ]
  },
  {
   "cell_type": "code",
   "execution_count": 25,
   "metadata": {},
   "outputs": [
    {
     "name": "stdout",
     "output_type": "stream",
     "text": [
      "Possible perms: [(1, 2), (1, 3), (1, 4), (2, 1), (2, 3), (2, 4), (3, 1), (3, 2), (3, 4), (4, 1), (4, 2), (4, 3)]\n",
      "Layered Maximum (2 layers) method \n",
      "14 steps: [1, 2, 3, 1, 2, 4, 1, 2, 4, 3, 1, 2, 1, 4]\n"
     ]
    }
   ],
   "source": [
    "def layered_maximum(board, layers, debug=False):\n",
    "    board.reset()\n",
    "    board_colors = range(1, board.colors + 1)\n",
    "    perms = product(board_colors, repeat=layers)\n",
    "    \n",
    "    # filter perms which have adjacent duplicated\n",
    "    def p_filter(tup):\n",
    "        for idx in range(1, len(tup)):\n",
    "            if tup[idx] == tup[idx-1]:\n",
    "                return False\n",
    "        return True\n",
    "\n",
    "    perms = list(filter(p_filter, perms))\n",
    "    if debug:\n",
    "        print('Possible perms: {}'.format(perms))\n",
    "\n",
    "    steps = list()\n",
    "    while not board.is_done():\n",
    "        best_colors = argmax(perms, board.potential_flood)\n",
    "        ret_list = board.flood(best_colors)\n",
    "        colors = [col for col, size in ret_list]\n",
    "        steps.extend(colors)\n",
    "    return steps\n",
    "\n",
    "steps = layered_maximum(board, 2, debug=True)\n",
    "print('Layered Maximum (2 layers) method \\n{} steps: {}'.format(len(steps), steps))"
   ]
  },
  {
   "cell_type": "code",
   "execution_count": 11,
   "metadata": {},
   "outputs": [
    {
     "name": "stdout",
     "output_type": "stream",
     "text": [
      "Possible perms: [(1, 2, 1), (1, 2, 3), (1, 2, 4), (1, 3, 1), (1, 3, 2), (1, 3, 4), (1, 4, 1), (1, 4, 2), (1, 4, 3), (2, 1, 2), (2, 1, 3), (2, 1, 4), (2, 3, 1), (2, 3, 2), (2, 3, 4), (2, 4, 1), (2, 4, 2), (2, 4, 3), (3, 1, 2), (3, 1, 3), (3, 1, 4), (3, 2, 1), (3, 2, 3), (3, 2, 4), (3, 4, 1), (3, 4, 2), (3, 4, 3), (4, 1, 2), (4, 1, 3), (4, 1, 4), (4, 2, 1), (4, 2, 3), (4, 2, 4), (4, 3, 1), (4, 3, 2), (4, 3, 4)]\n",
      "Layered Maximum (3 layers) method \n",
      "12 steps: [1, 2, 3, 4, 1, 2, 4, 1, 3, 2, 1, 4]\n"
     ]
    }
   ],
   "source": [
    "steps = layered_maximum(board, 3, debug=True)\n",
    "print('Layered Maximum (3 layers) method \\n{} steps: {}'.format(len(steps), steps))"
   ]
  },
  {
   "cell_type": "code",
   "execution_count": 23,
   "metadata": {},
   "outputs": [
    {
     "name": "stdout",
     "output_type": "stream",
     "text": [
      "Layered Maximum (4 layers) method \n",
      "16 steps: [1, 2, 3, 1, 2, 4, 1, 2, 3, 4, 1, 3, 1, 2, 1, 2]\n"
     ]
    }
   ],
   "source": [
    "steps = layered_maximum(board, 4)\n",
    "print('Layered Maximum (4 layers) method \\n{} steps: {}'.format(len(steps), steps))"
   ]
  },
  {
   "cell_type": "markdown",
   "metadata": {},
   "source": [
    "## Comparing Layered Maximum to previous methods"
   ]
  },
  {
   "cell_type": "code",
   "execution_count": null,
   "metadata": {},
   "outputs": [],
   "source": [
    "runs = 100\n",
    "\n",
    "runs_naive = list()\n",
    "runs_imm = list()\n",
    "runs_lay2 = list()\n",
    "runs_lay3 = list()\n",
    "runs_lay4 = list()\n",
    "\n",
    "for run in range(runs):\n",
    "    board = Board(Dim2(12, 12), seed=None)\n",
    "    runs_naive.append(naive(board))\n",
    "    runs_imm.append(immediate_maximum(board))\n",
    "    runs_lay2.append(layered_maximum(board, 2))\n",
    "    runs_lay3.append(layered_maximum(board, 3))\n",
    "    runs_lay4.append(layered_maximum(board, 4))\n",
    "    \n",
    "    if run % 20 == 0:\n",
    "        print('Finished %d...' % run)"
   ]
  },
  {
   "cell_type": "code",
   "execution_count": null,
   "metadata": {},
   "outputs": [],
   "source": [
    "# plt.plot(np.linspace(1, runs, runs), list(map(len, runs_naive)), label='naive')\n",
    "plt.plot(np.linspace(1, runs, runs), list(map(len, runs_imm)), label='imm max')\n",
    "plt.plot(np.linspace(1, runs, runs), list(map(len, runs_lay2)), label='2 layered max')\n",
    "plt.plot(np.linspace(1, runs, runs), list(map(len, runs_lay3)), label='3 layered max')\n",
    "plt.plot(np.linspace(1, runs, runs), list(map(len, runs_lay4)), label='4 layered max')\n",
    "\n",
    "plt.title('Solving methods compared')\n",
    "plt.xlabel('Run #')\n",
    "plt.ylabel('Steps')\n",
    "plt.legend()\n",
    "\n",
    "# plt.savefig('test2.png', dpi=200)\n",
    "plt.show()"
   ]
  },
  {
   "cell_type": "markdown",
   "metadata": {},
   "source": [
    "## Tests"
   ]
  },
  {
   "cell_type": "code",
   "execution_count": 20,
   "metadata": {},
   "outputs": [
    {
     "data": {
      "text/html": [
       "<table><tr><td style=\"background-color:yellow\">3</td><td style=\"background-color:red\">1</td><td style=\"background-color:red\">1</td><td style=\"background-color:lightgrey\">2</td><td style=\"background-color:red\">1</td><td style=\"background-color:red\">1</td><td style=\"background-color:lightgrey\">2</td><td style=\"background-color:red\">1</td><td style=\"background-color:yellow\">3</td><td style=\"background-color:slateblue\">4</td><td style=\"background-color:yellow\">3</td><td style=\"background-color:yellow\">3</td></tr><tr><td style=\"background-color:yellow\">3</td><td style=\"background-color:red\">1</td><td style=\"background-color:lightgrey\">2</td><td style=\"background-color:lightgrey\">2</td><td style=\"background-color:lightgrey\">2</td><td style=\"background-color:red\">1</td><td style=\"background-color:red\">1</td><td style=\"background-color:slateblue\">4</td><td style=\"background-color:yellow\">3</td><td style=\"background-color:yellow\">3</td><td style=\"background-color:red\">1</td><td style=\"background-color:slateblue\">4</td></tr><tr><td style=\"background-color:red\">1</td><td style=\"background-color:lightgrey\">2</td><td style=\"background-color:yellow\">3</td><td style=\"background-color:red\">1</td><td style=\"background-color:yellow\">3</td><td style=\"background-color:lightgrey\">2</td><td style=\"background-color:lightgrey\">2</td><td style=\"background-color:red\">1</td><td style=\"background-color:yellow\">3</td><td style=\"background-color:slateblue\">4</td><td style=\"background-color:red\">1</td><td style=\"background-color:yellow\">3</td></tr><tr><td style=\"background-color:yellow\">3</td><td style=\"background-color:lightgrey\">2</td><td style=\"background-color:yellow\">3</td><td style=\"background-color:lightgrey\">2</td><td style=\"background-color:red\">1</td><td style=\"background-color:slateblue\">4</td><td style=\"background-color:lightgrey\">2</td><td style=\"background-color:lightgrey\">2</td><td style=\"background-color:slateblue\">4</td><td style=\"background-color:slateblue\">4</td><td style=\"background-color:yellow\">3</td><td style=\"background-color:slateblue\">4</td></tr><tr><td style=\"background-color:red\">1</td><td style=\"background-color:yellow\">3</td><td style=\"background-color:yellow\">3</td><td style=\"background-color:lightgrey\">2</td><td style=\"background-color:slateblue\">4</td><td style=\"background-color:red\">1</td><td style=\"background-color:red\">1</td><td style=\"background-color:yellow\">3</td><td style=\"background-color:lightgrey\">2</td><td style=\"background-color:lightgrey\">2</td><td style=\"background-color:slateblue\">4</td><td style=\"background-color:red\">1</td></tr><tr><td style=\"background-color:lightgrey\">2</td><td style=\"background-color:lightgrey\">2</td><td style=\"background-color:yellow\">3</td><td style=\"background-color:yellow\">3</td><td style=\"background-color:red\">1</td><td style=\"background-color:yellow\">3</td><td style=\"background-color:lightgrey\">2</td><td style=\"background-color:yellow\">3</td><td style=\"background-color:slateblue\">4</td><td style=\"background-color:lightgrey\">2</td><td style=\"background-color:slateblue\">4</td><td style=\"background-color:yellow\">3</td></tr><tr><td style=\"background-color:yellow\">3</td><td style=\"background-color:slateblue\">4</td><td style=\"background-color:red\">1</td><td style=\"background-color:slateblue\">4</td><td style=\"background-color:yellow\">3</td><td style=\"background-color:lightgrey\">2</td><td style=\"background-color:red\">1</td><td style=\"background-color:slateblue\">4</td><td style=\"background-color:red\">1</td><td style=\"background-color:yellow\">3</td><td style=\"background-color:yellow\">3</td><td style=\"background-color:slateblue\">4</td></tr><tr><td style=\"background-color:yellow\">3</td><td style=\"background-color:lightgrey\">2</td><td style=\"background-color:lightgrey\">2</td><td style=\"background-color:lightgrey\">2</td><td style=\"background-color:yellow\">3</td><td style=\"background-color:lightgrey\">2</td><td style=\"background-color:red\">1</td><td style=\"background-color:lightgrey\">2</td><td style=\"background-color:slateblue\">4</td><td style=\"background-color:slateblue\">4</td><td style=\"background-color:lightgrey\">2</td><td style=\"background-color:red\">1</td></tr><tr><td style=\"background-color:lightgrey\">2</td><td style=\"background-color:red\">1</td><td style=\"background-color:slateblue\">4</td><td style=\"background-color:red\">1</td><td style=\"background-color:lightgrey\">2</td><td style=\"background-color:red\">1</td><td style=\"background-color:lightgrey\">2</td><td style=\"background-color:lightgrey\">2</td><td style=\"background-color:slateblue\">4</td><td style=\"background-color:slateblue\">4</td><td style=\"background-color:yellow\">3</td><td style=\"background-color:yellow\">3</td></tr><tr><td style=\"background-color:yellow\">3</td><td style=\"background-color:red\">1</td><td style=\"background-color:slateblue\">4</td><td style=\"background-color:slateblue\">4</td><td style=\"background-color:slateblue\">4</td><td style=\"background-color:red\">1</td><td style=\"background-color:red\">1</td><td style=\"background-color:red\">1</td><td style=\"background-color:yellow\">3</td><td style=\"background-color:slateblue\">4</td><td style=\"background-color:red\">1</td><td style=\"background-color:yellow\">3</td></tr><tr><td style=\"background-color:slateblue\">4</td><td style=\"background-color:lightgrey\">2</td><td style=\"background-color:red\">1</td><td style=\"background-color:red\">1</td><td style=\"background-color:lightgrey\">2</td><td style=\"background-color:slateblue\">4</td><td style=\"background-color:slateblue\">4</td><td style=\"background-color:red\">1</td><td style=\"background-color:lightgrey\">2</td><td style=\"background-color:lightgrey\">2</td><td style=\"background-color:yellow\">3</td><td style=\"background-color:lightgrey\">2</td></tr><tr><td style=\"background-color:lightgrey\">2</td><td style=\"background-color:slateblue\">4</td><td style=\"background-color:lightgrey\">2</td><td style=\"background-color:lightgrey\">2</td><td style=\"background-color:red\">1</td><td style=\"background-color:yellow\">3</td><td style=\"background-color:lightgrey\">2</td><td style=\"background-color:lightgrey\">2</td><td style=\"background-color:yellow\">3</td><td style=\"background-color:yellow\">3</td><td style=\"background-color:yellow\">3</td><td style=\"background-color:yellow\">3</td></tr></table>"
      ],
      "text/plain": [
       "<IPython.core.display.HTML object>"
      ]
     },
     "metadata": {},
     "output_type": "display_data"
    }
   ],
   "source": [
    "board = Board(Dim2(12, 12), seed=None)\n",
    "board.show(True)"
   ]
  },
  {
   "cell_type": "code",
   "execution_count": 38,
   "metadata": {},
   "outputs": [
    {
     "data": {
      "text/plain": [
       "[(1, 141), (2, 144)]"
      ]
     },
     "execution_count": 38,
     "metadata": {},
     "output_type": "execute_result"
    }
   ],
   "source": [
    "board.reset()\n",
    "board.flood([1, 2, 3, 1, 2, 4, 1, 2, 3, 4, 1, 3])\n",
    "board.flood([1, 2])"
   ]
  },
  {
   "cell_type": "code",
   "execution_count": 26,
   "metadata": {},
   "outputs": [
    {
     "name": "stdout",
     "output_type": "stream",
     "text": [
      "Naive:       [2, 1, 2, 3, 2, 4, 3, 2, 1, 2, 3, 2, 1, 4, 2, 3, 1]\n",
      "Imm Max:     [1, 2, 3, 1, 2, 4, 1, 2, 3, 4, 1, 3, 2]\n",
      "2 Layer Max: [1, 2, 3, 1, 2, 4, 1, 2, 4, 3, 1, 2, 1, 4]\n",
      "3 Layer Max: [1, 2, 3, 1, 2, 4, 1, 2, 3, 4, 1, 3, 1, 2]\n",
      "4 Layer Max: [1, 2, 3, 1, 2, 4, 1, 2, 3, 4, 1, 3, 1, 2]\n"
     ]
    }
   ],
   "source": [
    "print('Naive:       {}'.format(naive(board)))\n",
    "print('Imm Max:     {}'.format(immediate_maximum(board)))\n",
    "print('2 Layer Max: {}'.format(layered_maximum(board, 2)))\n",
    "print('3 Layer Max: {}'.format(layered_maximum(board, 3)))\n",
    "print('4 Layer Max: {}'.format(layered_maximum(board, 4)))"
   ]
  },
  {
   "cell_type": "code",
   "execution_count": null,
   "metadata": {},
   "outputs": [],
   "source": [
    "_colors = list(range(1, board.colors + 1))\n",
    "list(chain(_colors, permutations(_colors, 2), permutations(_colors, 3)))"
   ]
  }
 ],
 "metadata": {
  "kernelspec": {
   "display_name": "Python 3",
   "language": "python",
   "name": "python3"
  },
  "language_info": {
   "codemirror_mode": {
    "name": "ipython",
    "version": 3
   },
   "file_extension": ".py",
   "mimetype": "text/x-python",
   "name": "python",
   "nbconvert_exporter": "python",
   "pygments_lexer": "ipython3",
   "version": "3.6.2"
  }
 },
 "nbformat": 4,
 "nbformat_minor": 2
}
